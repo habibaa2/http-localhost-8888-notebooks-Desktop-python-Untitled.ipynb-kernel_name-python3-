{
 "cells": [
  {
   "cell_type": "markdown",
   "id": "413cc374",
   "metadata": {},
   "source": [
    "##### Write a program that will find all numbers which are divisible by 7 but are not a multiple of 5,between 2000 and 3200 (both included). The numbers obtained should be printed in a list:"
   ]
  },
  {
   "cell_type": "code",
   "execution_count": 1,
   "id": "a3f712f0",
   "metadata": {},
   "outputs": [
    {
     "data": {
      "text/plain": [
       "[2002,\n",
       " 2009,\n",
       " 2016,\n",
       " 2023,\n",
       " 2037,\n",
       " 2044,\n",
       " 2051,\n",
       " 2058,\n",
       " 2072,\n",
       " 2079,\n",
       " 2086,\n",
       " 2093,\n",
       " 2107,\n",
       " 2114,\n",
       " 2121,\n",
       " 2128,\n",
       " 2142,\n",
       " 2149,\n",
       " 2156,\n",
       " 2163,\n",
       " 2177,\n",
       " 2184,\n",
       " 2191,\n",
       " 2198,\n",
       " 2212,\n",
       " 2219,\n",
       " 2226,\n",
       " 2233,\n",
       " 2247,\n",
       " 2254,\n",
       " 2261,\n",
       " 2268,\n",
       " 2282,\n",
       " 2289,\n",
       " 2296,\n",
       " 2303,\n",
       " 2317,\n",
       " 2324,\n",
       " 2331,\n",
       " 2338,\n",
       " 2352,\n",
       " 2359,\n",
       " 2366,\n",
       " 2373,\n",
       " 2387,\n",
       " 2394,\n",
       " 2401,\n",
       " 2408,\n",
       " 2422,\n",
       " 2429,\n",
       " 2436,\n",
       " 2443,\n",
       " 2457,\n",
       " 2464,\n",
       " 2471,\n",
       " 2478,\n",
       " 2492,\n",
       " 2499,\n",
       " 2506,\n",
       " 2513,\n",
       " 2527,\n",
       " 2534,\n",
       " 2541,\n",
       " 2548,\n",
       " 2562,\n",
       " 2569,\n",
       " 2576,\n",
       " 2583,\n",
       " 2597,\n",
       " 2604,\n",
       " 2611,\n",
       " 2618,\n",
       " 2632,\n",
       " 2639,\n",
       " 2646,\n",
       " 2653,\n",
       " 2667,\n",
       " 2674,\n",
       " 2681,\n",
       " 2688,\n",
       " 2702,\n",
       " 2709,\n",
       " 2716,\n",
       " 2723,\n",
       " 2737,\n",
       " 2744,\n",
       " 2751,\n",
       " 2758,\n",
       " 2772,\n",
       " 2779,\n",
       " 2786,\n",
       " 2793,\n",
       " 2807,\n",
       " 2814,\n",
       " 2821,\n",
       " 2828,\n",
       " 2842,\n",
       " 2849,\n",
       " 2856,\n",
       " 2863,\n",
       " 2877,\n",
       " 2884,\n",
       " 2891,\n",
       " 2898,\n",
       " 2912,\n",
       " 2919,\n",
       " 2926,\n",
       " 2933,\n",
       " 2947,\n",
       " 2954,\n",
       " 2961,\n",
       " 2968,\n",
       " 2982,\n",
       " 2989,\n",
       " 2996,\n",
       " 3003,\n",
       " 3017,\n",
       " 3024,\n",
       " 3031,\n",
       " 3038,\n",
       " 3052,\n",
       " 3059,\n",
       " 3066,\n",
       " 3073,\n",
       " 3087,\n",
       " 3094,\n",
       " 3101,\n",
       " 3108,\n",
       " 3122,\n",
       " 3129,\n",
       " 3136,\n",
       " 3143,\n",
       " 3157,\n",
       " 3164,\n",
       " 3171,\n",
       " 3178,\n",
       " 3192,\n",
       " 3199]"
      ]
     },
     "execution_count": 1,
     "metadata": {},
     "output_type": "execute_result"
    }
   ],
   "source": [
    "def func1(begin,end) :\n",
    "    list1=[]\n",
    "    for i in range(begin,end) :\n",
    "      if (i % 7 == 0 and i % 5 != 0 ):\n",
    "           list1.append(i)\n",
    "    return list1\n",
    "func1(2000,3200) "
   ]
  },
  {
   "cell_type": "markdown",
   "id": "21c79a3b",
   "metadata": {},
   "source": [
    "##### Write a program that can compute the factorial of a given number. (The factorial of n is the product of all positive integers less than or equal to n.) For example: For factorial(5)= 5 x 4 x 3 x 2 x 1 the result is 120 (i.e. factorial (0)=1) :"
   ]
  },
  {
   "cell_type": "code",
   "execution_count": 6,
   "id": "32e7bbe6",
   "metadata": {},
   "outputs": [
    {
     "data": {
      "text/plain": [
       "120"
      ]
     },
     "execution_count": 6,
     "metadata": {},
     "output_type": "execute_result"
    }
   ],
   "source": [
    "def fact(n):\n",
    "    if (n == 0 or n ==1) :\n",
    "        result =1\n",
    "        return (result)\n",
    "    else :\n",
    "        result =(n *facto(n-1))\n",
    "        return(result)\n",
    "fact(5)"
   ]
  },
  {
   "cell_type": "markdown",
   "id": "26d7d12d",
   "metadata": {},
   "source": [
    "##### With a given integer number n, write a program to generate a dictionary that contains (i, i*i) such that is an integral number between 1 and n (both included). Then, the program should print the dictionary. Suppose the following input is supplied to the program: 8 Then, the output should be: {1: 1, 2: 4, 3: 9, 4: 16, 5: 25, 6: 36, 7: 49, 8: 64}  "
   ]
  },
  {
   "cell_type": "code",
   "execution_count": 11,
   "id": "e9c87579",
   "metadata": {},
   "outputs": [
    {
     "data": {
      "text/plain": [
       "{1: 1, 2: 4, 3: 9, 4: 16, 5: 25, 6: 36, 7: 49, 8: 64}"
      ]
     },
     "execution_count": 11,
     "metadata": {},
     "output_type": "execute_result"
    }
   ],
   "source": [
    "def dict(n):\n",
    "    d={}\n",
    "    for i in range(1,n+1):\n",
    "        d[i]=i*i\n",
    "        i+=1\n",
    "    return (d)\n",
    "dict(8)"
   ]
  },
  {
   "cell_type": "markdown",
   "id": "f030b6f3",
   "metadata": {},
   "source": [
    "##### Given a non-empty string and an integral n, return a new string where the char at index n has been removed. The value of n will be a valid index of a char in the original string (i.e. n will be in the range 0..len(str)-1 inclusive). \n",
    "\n",
    "missing_char('kitten', 1) → 'ktten'    for example here we remove \"i\" which is located in the index 1\n",
    "\n",
    "missing_char('kitten', 0) → 'itten'   here we remove \"k\" which is in the index 0\n",
    "\n",
    "missing_char('kitten', 4) → 'kittn'   here we remove \"e\" which is in the index 4"
   ]
  },
  {
   "cell_type": "code",
   "execution_count": 16,
   "id": "fad073c9",
   "metadata": {},
   "outputs": [
    {
     "data": {
      "text/plain": [
       "'kittn'"
      ]
     },
     "execution_count": 16,
     "metadata": {},
     "output_type": "execute_result"
    }
   ],
   "source": [
    "def missing(str , i):\n",
    "    return str[0:i] + str[i+1:]\n",
    "\n",
    "missing(\"kitten\",4)"
   ]
  },
  {
   "cell_type": "markdown",
   "id": "373c55f5",
   "metadata": {},
   "source": [
    "##### Write a NumPy program to convert a NumPy array into a Python list structure.\n",
    "\n",
    "Expected output: \n",
    "\n",
    "Original array elements: [[0 1] [2 3] [4 5]] \n",
    "\n",
    "Array to list: [[0, 1], [2, 3], [4, 5]] "
   ]
  },
  {
   "cell_type": "code",
   "execution_count": 25,
   "id": "c20404d8",
   "metadata": {},
   "outputs": [
    {
     "name": "stdout",
     "output_type": "stream",
     "text": [
      "[[0, 1], [2, 3], [4, 5]]\n"
     ]
    }
   ],
   "source": [
    "import numpy as np\n",
    "array = np.array([[0 ,1] ,[2, 3] ,[4, 5]])\n",
    "list= array.tolist()\n",
    "print (list)\n"
   ]
  },
  {
   "cell_type": "markdown",
   "id": "0d0d2e90",
   "metadata": {},
   "source": [
    "##### Write a NumPy program to compute the covariance matrix of two given arrays. \n",
    "\n",
    "Original array1: [0 1 2] \n",
    "\n",
    "Original array2: [2 1 0] \n",
    "\n",
    "Covariance matrix of the said arrays: [[ 1. -1.] [-1. 1.]]\n",
    "Hint: We can use the np.cov() function to calculate the covariance between these two arrays"
   ]
  },
  {
   "cell_type": "code",
   "execution_count": 27,
   "id": "f188135d",
   "metadata": {},
   "outputs": [
    {
     "name": "stdout",
     "output_type": "stream",
     "text": [
      "[[ 1. -1.]\n",
      " [-1.  1.]]\n"
     ]
    }
   ],
   "source": [
    "import numpy as np\n",
    "o1 = np.array([0,1,2])\n",
    "o2 = np.array([2,1,0])\n",
    "result = np.cov(o1,o2)\n",
    "print(result)"
   ]
  },
  {
   "cell_type": "markdown",
   "id": "e95c72b8",
   "metadata": {},
   "source": [
    "#####  Write a program that calculates and prints the value according to the given formula: Q= Square root of [(2 * C * D)/H] \n",
    "\n",
    "The following are the fixed values of C and H: C is 50. H is 30. \n",
    "\n",
    "D is the variable whose values should be input into your program in a comma-separated sequence. (That means D contains more than value)\n",
    "\n",
    "Example: Let's assume the following comma-separated input sequence is given to the program: 100,150,180 The output of the program should be 18,22,24 \n",
    "\n",
    "To further explain this, we will obtain a result for each value of D:  Q1= Square root of [(2 * C * 100)/H] =18, Q2= Square root of [(2 * C * 150)/H] = 22 and Q3 = Square root of [(2 * C * 180)/H]  = 24\n",
    "\n",
    "Hint: If the output received is in decimal form, it should be rounded off to its nearest value. For example, if the output received is 26.0, it should be printed as 26. In case of input data being supplied to the question, it should be assumed to be a console input. "
   ]
  },
  {
   "cell_type": "code",
   "execution_count": 33,
   "id": "ca2adc1b",
   "metadata": {},
   "outputs": [
    {
     "ename": "SyntaxError",
     "evalue": "invalid syntax. Perhaps you forgot a comma? (3979906721.py, line 6)",
     "output_type": "error",
     "traceback": [
      "\u001b[1;36m  Cell \u001b[1;32mIn[33], line 6\u001b[1;36m\u001b[0m\n\u001b[1;33m    Q1 =math.sqrt((2 * C * int(values)/H)\u001b[0m\n\u001b[1;37m                   ^\u001b[0m\n\u001b[1;31mSyntaxError\u001b[0m\u001b[1;31m:\u001b[0m invalid syntax. Perhaps you forgot a comma?\n"
     ]
    }
   ],
   "source": [
    "import math\n",
    "C = 50\n",
    "H=30\n",
    "inputValve = input(\"comma-separated input sequence\")\n",
    "values = inputValve.split()\n",
    "Q1 =math.sqrt((2 * C * int(values)/H)\n",
    "Q2 =math.sqrt((2 * C * int(values)/H)\n",
    "Q3=math.sqrt((2 * C * int(values)/H)\n",
    "results =[]\n",
    "results.append(Q1,Q2,Q3)\n",
    "print(results)"
   ]
  },
  {
   "cell_type": "code",
   "execution_count": null,
   "id": "fb40917e",
   "metadata": {},
   "outputs": [],
   "source": []
  }
 ],
 "metadata": {
  "kernelspec": {
   "display_name": "Python 3 (ipykernel)",
   "language": "python",
   "name": "python3"
  },
  "language_info": {
   "codemirror_mode": {
    "name": "ipython",
    "version": 3
   },
   "file_extension": ".py",
   "mimetype": "text/x-python",
   "name": "python",
   "nbconvert_exporter": "python",
   "pygments_lexer": "ipython3",
   "version": "3.11.4"
  }
 },
 "nbformat": 4,
 "nbformat_minor": 5
}
